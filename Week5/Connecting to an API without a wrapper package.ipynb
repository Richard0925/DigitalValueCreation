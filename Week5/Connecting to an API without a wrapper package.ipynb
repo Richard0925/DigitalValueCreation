{
 "cells": [
  {
   "cell_type": "markdown",
   "id": "cd39f0c9",
   "metadata": {},
   "source": [
    "We will see here how to connect to an API without the help of a wrapper package such as `tweepy`. We will use the example of Twitter, but this should give you an idea about requesting data from APIs more generally - it is essentially like requesting a website! Hence, we will use `requests`. If you want to learn more, I recommend this blogpost to get started: https://www.dataquest.io/blog/python-api-tutorial/"
   ]
  },
  {
   "cell_type": "code",
   "execution_count": 1,
   "id": "34b4549b",
   "metadata": {},
   "outputs": [],
   "source": [
    "import requests\n",
    "import json\n",
    "import pandas as pd"
   ]
  },
  {
   "cell_type": "markdown",
   "id": "6bbb978f",
   "metadata": {},
   "source": [
    "On the Twitter Developer Platform under https://developer.twitter.com/en/docs/api-reference-index#Twitter, you can find the different API \"endpoints\" that Twitter provides (essentially, there is a different API depending on what data you want). We will be using here version 1.1 and searching for tweets. Hence, we follow the link https://developer.twitter.com/en/docs/twitter-api/v1/tweets/search/api-reference/get-search-tweets. Here, we find a \"Resource URL\", which provides the relevant data: 'https://api.twitter.com/1.1/search/tweets.json' (essentially, the location of the API application on Twitter's server). We can send a request to this site, but we won't get much of a response:"
   ]
  },
  {
   "cell_type": "code",
   "execution_count": 2,
   "id": "f880c91e",
   "metadata": {},
   "outputs": [
    {
     "data": {
      "text/plain": [
       "<Response [401]>"
      ]
     },
     "execution_count": 2,
     "metadata": {},
     "output_type": "execute_result"
    }
   ],
   "source": [
    "requests.get(\"https://api.twitter.com/2/tweets/search/recent\")"
   ]
  },
  {
   "cell_type": "markdown",
   "id": "464698ce",
   "metadata": {},
   "source": [
    "Why? because we haven't authenticated ourselves (response 401 indicates that we are not authorized). We can use the Consumer Key and Secret together with the Access Key and Secret, but it is easier to just use the Bearer Token:"
   ]
  },
  {
   "cell_type": "code",
   "execution_count": 3,
   "id": "ef6a876a",
   "metadata": {},
   "outputs": [],
   "source": [
    "BEARER_TOKEN = '[Add your Bearer token here]'"
   ]
  },
  {
   "cell_type": "markdown",
   "id": "b95ae9e8",
   "metadata": {},
   "source": [
    "We use the token to form a \"header\", which tells the server who we are. https://developer.twitter.com/en/docs/twitter-api/v1/tweets/search/api-reference/get-search-tweets provides an example request (from Terminal, instead of Python), which gives us a rough idea of the required data:"
   ]
  },
  {
   "cell_type": "code",
   "execution_count": 4,
   "id": "2852d194",
   "metadata": {},
   "outputs": [],
   "source": [
    "headers = {\n",
    "    \"Authorization\": \"Bearer {}\".format(BEARER_TOKEN),\n",
    "}"
   ]
  },
  {
   "cell_type": "markdown",
   "id": "e080a411",
   "metadata": {},
   "source": [
    "We also specify parameters: this is what we are looking for? This corresponds to the query parameter we used in the `tweepy.Cursor`. At https://developer.twitter.com/en/docs/twitter-api/v1/tweets/search/api-reference/get-search-tweets, you can find all the possible parameters"
   ]
  },
  {
   "cell_type": "code",
   "execution_count": 5,
   "id": "279a7628",
   "metadata": {},
   "outputs": [],
   "source": [
    "parameters={\n",
    "    'q': '#redbull',\n",
    "}"
   ]
  },
  {
   "cell_type": "markdown",
   "id": "7efd0872",
   "metadata": {},
   "source": [
    "We can now retry our request with the header and the search parameters:"
   ]
  },
  {
   "cell_type": "code",
   "execution_count": 6,
   "id": "8380ec72",
   "metadata": {},
   "outputs": [],
   "source": [
    "response = requests.get(\"https://api.twitter.com/1.1/search/tweets.json\",\n",
    "                        headers = headers,\n",
    "                        params = parameters)"
   ]
  },
  {
   "cell_type": "code",
   "execution_count": 7,
   "id": "109bc026",
   "metadata": {},
   "outputs": [
    {
     "data": {
      "text/plain": [
       "<Response [401]>"
      ]
     },
     "execution_count": 7,
     "metadata": {},
     "output_type": "execute_result"
    }
   ],
   "source": [
    "response"
   ]
  },
  {
   "cell_type": "markdown",
   "id": "3660495b",
   "metadata": {},
   "source": [
    "This time, we get a better outcome: 200 indicates that the request was accepted by the server and we get a \"normal\" response. Of course, we can now print this out. We use the fact that the API returns information in JSON format (this is the case for most modern APIs. Older APIs tend to return XMLs)."
   ]
  },
  {
   "cell_type": "code",
   "execution_count": 8,
   "id": "6acacef6",
   "metadata": {},
   "outputs": [
    {
     "data": {
      "text/plain": [
       "{'errors': [{'code': 89, 'message': 'Invalid or expired token.'}]}"
      ]
     },
     "execution_count": 8,
     "metadata": {},
     "output_type": "execute_result"
    }
   ],
   "source": [
    "response_data = response.json()\n",
    "response_data"
   ]
  },
  {
   "cell_type": "markdown",
   "id": "6b9cd5fd",
   "metadata": {},
   "source": [
    "This looks familiar, right? In fact, we can look at the typical tweet attributes we already learned about (just that we now have dictionary notation, instead of attributes)"
   ]
  },
  {
   "cell_type": "code",
   "execution_count": 9,
   "id": "4aa72b53",
   "metadata": {},
   "outputs": [
    {
     "ename": "KeyError",
     "evalue": "'statuses'",
     "output_type": "error",
     "traceback": [
      "\u001b[0;31m---------------------------------------------------------------------------\u001b[0m",
      "\u001b[0;31mKeyError\u001b[0m                                  Traceback (most recent call last)",
      "Cell \u001b[0;32mIn [9], line 1\u001b[0m\n\u001b[0;32m----> 1\u001b[0m response_data[\u001b[38;5;124m'\u001b[39m\u001b[38;5;124mstatuses\u001b[39m\u001b[38;5;124m'\u001b[39m][\u001b[38;5;241m0\u001b[39m][\u001b[38;5;124m'\u001b[39m\u001b[38;5;124mtext\u001b[39m\u001b[38;5;124m'\u001b[39m]\n",
      "\u001b[0;31mKeyError\u001b[0m: 'statuses'"
     ]
    }
   ],
   "source": [
    "response_data['statuses'][0]['text']"
   ]
  },
  {
   "cell_type": "code",
   "execution_count": null,
   "id": "87b944cb",
   "metadata": {},
   "outputs": [],
   "source": [
    "response_data['statuses'][0]['user']['screen_name']"
   ]
  }
 ],
 "metadata": {
  "interpreter": {
   "hash": "aee8b7b246df8f9039afb4144a1f6fd8d2ca17a180786b69acc140d282b71a49"
  },
  "kernelspec": {
   "display_name": "Python 3.10.1 64-bit",
   "language": "python",
   "name": "python3"
  },
  "language_info": {
   "codemirror_mode": {
    "name": "ipython",
    "version": 3
   },
   "file_extension": ".py",
   "mimetype": "text/x-python",
   "name": "python",
   "nbconvert_exporter": "python",
   "pygments_lexer": "ipython3",
   "version": "3.10.1"
  }
 },
 "nbformat": 4,
 "nbformat_minor": 5
}
